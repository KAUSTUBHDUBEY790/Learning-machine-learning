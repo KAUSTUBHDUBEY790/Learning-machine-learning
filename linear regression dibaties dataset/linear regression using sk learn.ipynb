{
 "cells": [
  {
   "cell_type": "code",
   "execution_count": 9,
   "id": "34ed097f",
   "metadata": {},
   "outputs": [
    {
     "name": "stdout",
     "output_type": "stream",
     "text": [
      "(111, 10)\n",
      "(331, 11)\n",
      "(111, 10)\n",
      "(331, 1)\n",
      "(331, 10)\n"
     ]
    }
   ],
   "source": [
    "import numpy as np\n",
    "from sklearn.linear_model import LinearRegression\n",
    "training_data=np.genfromtxt('train.csv', delimiter=',')\n",
    "testing_data=np.genfromtxt('test.csv', delimiter=',')\n",
    "print(testing_data.shape)\n",
    "print(training_data.shape)\n",
    "(111, 10)\n",
    "(331, 11)\n",
    "X_test=testing_data\n",
    "X_train=training_data[:, :10]\n",
    "Y_train=training_data[:, 10:]\n",
    "print(X_test.shape)\n",
    "print(Y_train.shape)\n",
    "print(X_train.shape)\n",
    "model=LinearRegression()\n",
    "model.fit(X_train, Y_train)\n",
    "pred=model.predict(X_test)\n",
    "# np.savetxt('predicted_data.csv', pred, delimiter=',')\n",
    "np.savetxt('predicted.csv',pred,fmt='%1.5f')"
   ]
  },
  {
   "cell_type": "code",
   "execution_count": null,
   "id": "33ca096c",
   "metadata": {},
   "outputs": [],
   "source": []
  },
  {
   "cell_type": "code",
   "execution_count": null,
   "id": "75cdaf37",
   "metadata": {},
   "outputs": [],
   "source": []
  }
 ],
 "metadata": {
  "kernelspec": {
   "display_name": "Python 3 (ipykernel)",
   "language": "python",
   "name": "python3"
  },
  "language_info": {
   "codemirror_mode": {
    "name": "ipython",
    "version": 3
   },
   "file_extension": ".py",
   "mimetype": "text/x-python",
   "name": "python",
   "nbconvert_exporter": "python",
   "pygments_lexer": "ipython3",
   "version": "3.9.7"
  }
 },
 "nbformat": 4,
 "nbformat_minor": 5
}
