{
 "cells": [
  {
   "cell_type": "markdown",
   "id": "636f8e81",
   "metadata": {},
   "source": [
    "# here we are loading data from the given file\n",
    "import numpy as np\n",
    "data = np.loadtxt(\"train.csv\", delimiter=\",\")"
   ]
  },
  {
   "cell_type": "code",
   "execution_count": 6,
   "id": "066897c2",
   "metadata": {},
   "outputs": [
    {
     "data": {
      "text/plain": [
       "(331, 1)"
      ]
     },
     "execution_count": 6,
     "metadata": {},
     "output_type": "execute_result"
    }
   ],
   "source": [
    "# here we are extracting the x and y from the given data\n",
    "x = data[:, 0].reshape(-1,1)\n",
    "y = data[:, 1]\n",
    "x.shape"
   ]
  },
  {
   "cell_type": "code",
   "execution_count": 13,
   "id": "89915110",
   "metadata": {},
   "outputs": [],
   "source": [
    "# we will use the sklearn library to split and work on the given data.\n",
    "def fit(x,y):\n",
    "    num = (x*y).mean()-x.mean()*y.mean()\n",
    "    den = (x**2).mean()-x.mean()**2\n",
    "    m= num/den\n",
    "    c = y.mean()-m*x.mean()\n",
    "    return m,c\n",
    "def predict(x,m,c):\n",
    "    return m*x+c\n",
    "def score(y_t,y_p):\n",
    "    u = ((y_t - y_p)**2).sum()\n",
    "    v = ((y_t - y_t.mean())**2).sum()\n",
    "    return 1-(u/v)\n",
    "def cost(x,y,m,c):\n",
    "    return ((y-m*x-c)**2).mean()"
   ]
  },
  {
   "cell_type": "code",
   "execution_count": 15,
   "id": "b4197511",
   "metadata": {},
   "outputs": [
    {
     "name": "stdout",
     "output_type": "stream",
     "text": [
      "-330.0\n",
      "0.00226059134894709\n"
     ]
    }
   ],
   "source": [
    "m,c = fit(x,y)\n",
    "y_p = predict(x,m,c)\n",
    "print(score(y,y_p))\n",
    "print(cost(x,y,m,c))"
   ]
  },
  {
   "cell_type": "code",
   "execution_count": null,
   "id": "4a7881a4",
   "metadata": {},
   "outputs": [],
   "source": []
  },
  {
   "cell_type": "code",
   "execution_count": null,
   "id": "be577985",
   "metadata": {},
   "outputs": [],
   "source": []
  }
 ],
 "metadata": {
  "kernelspec": {
   "display_name": "Python 3 (ipykernel)",
   "language": "python",
   "name": "python3"
  },
  "language_info": {
   "codemirror_mode": {
    "name": "ipython",
    "version": 3
   },
   "file_extension": ".py",
   "mimetype": "text/x-python",
   "name": "python",
   "nbconvert_exporter": "python",
   "pygments_lexer": "ipython3",
   "version": "3.9.7"
  }
 },
 "nbformat": 4,
 "nbformat_minor": 5
}
